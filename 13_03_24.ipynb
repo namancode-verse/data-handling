{
  "nbformat": 4,
  "nbformat_minor": 0,
  "metadata": {
    "colab": {
      "provenance": [],
      "authorship_tag": "ABX9TyOX5GyuzFIvPtXhAI61t1xG",
      "include_colab_link": true
    },
    "kernelspec": {
      "name": "python3",
      "display_name": "Python 3"
    },
    "language_info": {
      "name": "python"
    }
  },
  "cells": [
    {
      "cell_type": "markdown",
      "metadata": {
        "id": "view-in-github",
        "colab_type": "text"
      },
      "source": [
        "<a href=\"https://colab.research.google.com/github/namancode-verse/data-handling/blob/main/13_03_24.ipynb\" target=\"_parent\"><img src=\"https://colab.research.google.com/assets/colab-badge.svg\" alt=\"Open In Colab\"/></a>"
      ]
    },
    {
      "cell_type": "code",
      "execution_count": 1,
      "metadata": {
        "id": "uYj8nfwsvJcY"
      },
      "outputs": [],
      "source": [
        "import requests\n"
      ]
    },
    {
      "cell_type": "code",
      "source": [
        "!pip install --upgrade 'library'"
      ],
      "metadata": {
        "colab": {
          "base_uri": "https://localhost:8080/"
        },
        "id": "wJqNXy1KvabJ",
        "outputId": "0ec39f4c-d85c-42e5-d7e7-1edc5a198454"
      },
      "execution_count": 2,
      "outputs": [
        {
          "output_type": "stream",
          "name": "stdout",
          "text": [
            "Collecting library\n",
            "  Downloading Library-0.0.0.tar.gz (1.4 kB)\n",
            "  Preparing metadata (setup.py) ... \u001b[?25l\u001b[?25hdone\n",
            "Building wheels for collected packages: library\n",
            "  Building wheel for library (setup.py) ... \u001b[?25l\u001b[?25hdone\n",
            "  Created wheel for library: filename=Library-0.0.0-py3-none-any.whl size=2054 sha256=2589c2dc46249e3c0a0d417cd7fc1dc319ee39500c45f9f1e317621853f2261a\n",
            "  Stored in directory: /root/.cache/pip/wheels/e0/71/7d/b0e29b944e43374597cd4e3b88c85197001c9bfcd5dce191f4\n",
            "Successfully built library\n",
            "Installing collected packages: library\n",
            "Successfully installed library-0.0.0\n"
          ]
        }
      ]
    },
    {
      "cell_type": "markdown",
      "source": [
        "pip will install any library in python environment ,pip is like playstore in python\n",
        "upgrade is there to upgrade the library ."
      ],
      "metadata": {
        "id": "RTFIYJGuvuNd"
      }
    },
    {
      "cell_type": "code",
      "source": [
        "r=requests.get('https://www.romexchangetext.com/')\n",
        "r"
      ],
      "metadata": {
        "colab": {
          "base_uri": "https://localhost:8080/",
          "height": 634
        },
        "id": "kiSKLhqJwf_W",
        "outputId": "0b7f3763-c1b0-40b8-b4b8-d5cf761e255a"
      },
      "execution_count": 4,
      "outputs": [
        {
          "output_type": "error",
          "ename": "ConnectionError",
          "evalue": "HTTPSConnectionPool(host='www.romexchangetext.com', port=443): Max retries exceeded with url: / (Caused by NameResolutionError(\"<urllib3.connection.HTTPSConnection object at 0x79cc42406410>: Failed to resolve 'www.romexchangetext.com' ([Errno -2] Name or service not known)\"))",
          "traceback": [
            "\u001b[0;31m---------------------------------------------------------------------------\u001b[0m",
            "\u001b[0;31mgaierror\u001b[0m                                  Traceback (most recent call last)",
            "\u001b[0;32m/usr/local/lib/python3.10/dist-packages/urllib3/connection.py\u001b[0m in \u001b[0;36m_new_conn\u001b[0;34m(self)\u001b[0m\n\u001b[1;32m    202\u001b[0m         \u001b[0;32mtry\u001b[0m\u001b[0;34m:\u001b[0m\u001b[0;34m\u001b[0m\u001b[0;34m\u001b[0m\u001b[0m\n\u001b[0;32m--> 203\u001b[0;31m             sock = connection.create_connection(\n\u001b[0m\u001b[1;32m    204\u001b[0m                 \u001b[0;34m(\u001b[0m\u001b[0mself\u001b[0m\u001b[0;34m.\u001b[0m\u001b[0m_dns_host\u001b[0m\u001b[0;34m,\u001b[0m \u001b[0mself\u001b[0m\u001b[0;34m.\u001b[0m\u001b[0mport\u001b[0m\u001b[0;34m)\u001b[0m\u001b[0;34m,\u001b[0m\u001b[0;34m\u001b[0m\u001b[0;34m\u001b[0m\u001b[0m\n",
            "\u001b[0;32m/usr/local/lib/python3.10/dist-packages/urllib3/util/connection.py\u001b[0m in \u001b[0;36mcreate_connection\u001b[0;34m(address, timeout, source_address, socket_options)\u001b[0m\n\u001b[1;32m     59\u001b[0m \u001b[0;34m\u001b[0m\u001b[0m\n\u001b[0;32m---> 60\u001b[0;31m     \u001b[0;32mfor\u001b[0m \u001b[0mres\u001b[0m \u001b[0;32min\u001b[0m \u001b[0msocket\u001b[0m\u001b[0;34m.\u001b[0m\u001b[0mgetaddrinfo\u001b[0m\u001b[0;34m(\u001b[0m\u001b[0mhost\u001b[0m\u001b[0;34m,\u001b[0m \u001b[0mport\u001b[0m\u001b[0;34m,\u001b[0m \u001b[0mfamily\u001b[0m\u001b[0;34m,\u001b[0m \u001b[0msocket\u001b[0m\u001b[0;34m.\u001b[0m\u001b[0mSOCK_STREAM\u001b[0m\u001b[0;34m)\u001b[0m\u001b[0;34m:\u001b[0m\u001b[0;34m\u001b[0m\u001b[0;34m\u001b[0m\u001b[0m\n\u001b[0m\u001b[1;32m     61\u001b[0m         \u001b[0maf\u001b[0m\u001b[0;34m,\u001b[0m \u001b[0msocktype\u001b[0m\u001b[0;34m,\u001b[0m \u001b[0mproto\u001b[0m\u001b[0;34m,\u001b[0m \u001b[0mcanonname\u001b[0m\u001b[0;34m,\u001b[0m \u001b[0msa\u001b[0m \u001b[0;34m=\u001b[0m \u001b[0mres\u001b[0m\u001b[0;34m\u001b[0m\u001b[0;34m\u001b[0m\u001b[0m\n",
            "\u001b[0;32m/usr/lib/python3.10/socket.py\u001b[0m in \u001b[0;36mgetaddrinfo\u001b[0;34m(host, port, family, type, proto, flags)\u001b[0m\n\u001b[1;32m    954\u001b[0m     \u001b[0maddrlist\u001b[0m \u001b[0;34m=\u001b[0m \u001b[0;34m[\u001b[0m\u001b[0;34m]\u001b[0m\u001b[0;34m\u001b[0m\u001b[0;34m\u001b[0m\u001b[0m\n\u001b[0;32m--> 955\u001b[0;31m     \u001b[0;32mfor\u001b[0m \u001b[0mres\u001b[0m \u001b[0;32min\u001b[0m \u001b[0m_socket\u001b[0m\u001b[0;34m.\u001b[0m\u001b[0mgetaddrinfo\u001b[0m\u001b[0;34m(\u001b[0m\u001b[0mhost\u001b[0m\u001b[0;34m,\u001b[0m \u001b[0mport\u001b[0m\u001b[0;34m,\u001b[0m \u001b[0mfamily\u001b[0m\u001b[0;34m,\u001b[0m \u001b[0mtype\u001b[0m\u001b[0;34m,\u001b[0m \u001b[0mproto\u001b[0m\u001b[0;34m,\u001b[0m \u001b[0mflags\u001b[0m\u001b[0;34m)\u001b[0m\u001b[0;34m:\u001b[0m\u001b[0;34m\u001b[0m\u001b[0;34m\u001b[0m\u001b[0m\n\u001b[0m\u001b[1;32m    956\u001b[0m         \u001b[0maf\u001b[0m\u001b[0;34m,\u001b[0m \u001b[0msocktype\u001b[0m\u001b[0;34m,\u001b[0m \u001b[0mproto\u001b[0m\u001b[0;34m,\u001b[0m \u001b[0mcanonname\u001b[0m\u001b[0;34m,\u001b[0m \u001b[0msa\u001b[0m \u001b[0;34m=\u001b[0m \u001b[0mres\u001b[0m\u001b[0;34m\u001b[0m\u001b[0;34m\u001b[0m\u001b[0m\n",
            "\u001b[0;31mgaierror\u001b[0m: [Errno -2] Name or service not known",
            "\nThe above exception was the direct cause of the following exception:\n",
            "\u001b[0;31mNameResolutionError\u001b[0m                       Traceback (most recent call last)",
            "\u001b[0;32m/usr/local/lib/python3.10/dist-packages/urllib3/connectionpool.py\u001b[0m in \u001b[0;36murlopen\u001b[0;34m(self, method, url, body, headers, retries, redirect, assert_same_host, timeout, pool_timeout, release_conn, chunked, body_pos, preload_content, decode_content, **response_kw)\u001b[0m\n\u001b[1;32m    790\u001b[0m             \u001b[0;31m# Make the request on the HTTPConnection object\u001b[0m\u001b[0;34m\u001b[0m\u001b[0;34m\u001b[0m\u001b[0m\n\u001b[0;32m--> 791\u001b[0;31m             response = self._make_request(\n\u001b[0m\u001b[1;32m    792\u001b[0m                 \u001b[0mconn\u001b[0m\u001b[0;34m,\u001b[0m\u001b[0;34m\u001b[0m\u001b[0;34m\u001b[0m\u001b[0m\n",
            "\u001b[0;32m/usr/local/lib/python3.10/dist-packages/urllib3/connectionpool.py\u001b[0m in \u001b[0;36m_make_request\u001b[0;34m(self, conn, method, url, body, headers, retries, timeout, chunked, response_conn, preload_content, decode_content, enforce_content_length)\u001b[0m\n\u001b[1;32m    491\u001b[0m                 \u001b[0mnew_e\u001b[0m \u001b[0;34m=\u001b[0m \u001b[0m_wrap_proxy_error\u001b[0m\u001b[0;34m(\u001b[0m\u001b[0mnew_e\u001b[0m\u001b[0;34m,\u001b[0m \u001b[0mconn\u001b[0m\u001b[0;34m.\u001b[0m\u001b[0mproxy\u001b[0m\u001b[0;34m.\u001b[0m\u001b[0mscheme\u001b[0m\u001b[0;34m)\u001b[0m\u001b[0;34m\u001b[0m\u001b[0;34m\u001b[0m\u001b[0m\n\u001b[0;32m--> 492\u001b[0;31m             \u001b[0;32mraise\u001b[0m \u001b[0mnew_e\u001b[0m\u001b[0;34m\u001b[0m\u001b[0;34m\u001b[0m\u001b[0m\n\u001b[0m\u001b[1;32m    493\u001b[0m \u001b[0;34m\u001b[0m\u001b[0m\n",
            "\u001b[0;32m/usr/local/lib/python3.10/dist-packages/urllib3/connectionpool.py\u001b[0m in \u001b[0;36m_make_request\u001b[0;34m(self, conn, method, url, body, headers, retries, timeout, chunked, response_conn, preload_content, decode_content, enforce_content_length)\u001b[0m\n\u001b[1;32m    467\u001b[0m             \u001b[0;32mtry\u001b[0m\u001b[0;34m:\u001b[0m\u001b[0;34m\u001b[0m\u001b[0;34m\u001b[0m\u001b[0m\n\u001b[0;32m--> 468\u001b[0;31m                 \u001b[0mself\u001b[0m\u001b[0;34m.\u001b[0m\u001b[0m_validate_conn\u001b[0m\u001b[0;34m(\u001b[0m\u001b[0mconn\u001b[0m\u001b[0;34m)\u001b[0m\u001b[0;34m\u001b[0m\u001b[0;34m\u001b[0m\u001b[0m\n\u001b[0m\u001b[1;32m    469\u001b[0m             \u001b[0;32mexcept\u001b[0m \u001b[0;34m(\u001b[0m\u001b[0mSocketTimeout\u001b[0m\u001b[0;34m,\u001b[0m \u001b[0mBaseSSLError\u001b[0m\u001b[0;34m)\u001b[0m \u001b[0;32mas\u001b[0m \u001b[0me\u001b[0m\u001b[0;34m:\u001b[0m\u001b[0;34m\u001b[0m\u001b[0;34m\u001b[0m\u001b[0m\n",
            "\u001b[0;32m/usr/local/lib/python3.10/dist-packages/urllib3/connectionpool.py\u001b[0m in \u001b[0;36m_validate_conn\u001b[0;34m(self, conn)\u001b[0m\n\u001b[1;32m   1096\u001b[0m         \u001b[0;32mif\u001b[0m \u001b[0mconn\u001b[0m\u001b[0;34m.\u001b[0m\u001b[0mis_closed\u001b[0m\u001b[0;34m:\u001b[0m\u001b[0;34m\u001b[0m\u001b[0;34m\u001b[0m\u001b[0m\n\u001b[0;32m-> 1097\u001b[0;31m             \u001b[0mconn\u001b[0m\u001b[0;34m.\u001b[0m\u001b[0mconnect\u001b[0m\u001b[0;34m(\u001b[0m\u001b[0;34m)\u001b[0m\u001b[0;34m\u001b[0m\u001b[0;34m\u001b[0m\u001b[0m\n\u001b[0m\u001b[1;32m   1098\u001b[0m \u001b[0;34m\u001b[0m\u001b[0m\n",
            "\u001b[0;32m/usr/local/lib/python3.10/dist-packages/urllib3/connection.py\u001b[0m in \u001b[0;36mconnect\u001b[0;34m(self)\u001b[0m\n\u001b[1;32m    610\u001b[0m         \u001b[0msock\u001b[0m\u001b[0;34m:\u001b[0m \u001b[0msocket\u001b[0m\u001b[0;34m.\u001b[0m\u001b[0msocket\u001b[0m \u001b[0;34m|\u001b[0m \u001b[0mssl\u001b[0m\u001b[0;34m.\u001b[0m\u001b[0mSSLSocket\u001b[0m\u001b[0;34m\u001b[0m\u001b[0;34m\u001b[0m\u001b[0m\n\u001b[0;32m--> 611\u001b[0;31m         \u001b[0mself\u001b[0m\u001b[0;34m.\u001b[0m\u001b[0msock\u001b[0m \u001b[0;34m=\u001b[0m \u001b[0msock\u001b[0m \u001b[0;34m=\u001b[0m \u001b[0mself\u001b[0m\u001b[0;34m.\u001b[0m\u001b[0m_new_conn\u001b[0m\u001b[0;34m(\u001b[0m\u001b[0;34m)\u001b[0m\u001b[0;34m\u001b[0m\u001b[0;34m\u001b[0m\u001b[0m\n\u001b[0m\u001b[1;32m    612\u001b[0m         \u001b[0mserver_hostname\u001b[0m\u001b[0;34m:\u001b[0m \u001b[0mstr\u001b[0m \u001b[0;34m=\u001b[0m \u001b[0mself\u001b[0m\u001b[0;34m.\u001b[0m\u001b[0mhost\u001b[0m\u001b[0;34m\u001b[0m\u001b[0;34m\u001b[0m\u001b[0m\n",
            "\u001b[0;32m/usr/local/lib/python3.10/dist-packages/urllib3/connection.py\u001b[0m in \u001b[0;36m_new_conn\u001b[0;34m(self)\u001b[0m\n\u001b[1;32m    209\u001b[0m         \u001b[0;32mexcept\u001b[0m \u001b[0msocket\u001b[0m\u001b[0;34m.\u001b[0m\u001b[0mgaierror\u001b[0m \u001b[0;32mas\u001b[0m \u001b[0me\u001b[0m\u001b[0;34m:\u001b[0m\u001b[0;34m\u001b[0m\u001b[0;34m\u001b[0m\u001b[0m\n\u001b[0;32m--> 210\u001b[0;31m             \u001b[0;32mraise\u001b[0m \u001b[0mNameResolutionError\u001b[0m\u001b[0;34m(\u001b[0m\u001b[0mself\u001b[0m\u001b[0;34m.\u001b[0m\u001b[0mhost\u001b[0m\u001b[0;34m,\u001b[0m \u001b[0mself\u001b[0m\u001b[0;34m,\u001b[0m \u001b[0me\u001b[0m\u001b[0;34m)\u001b[0m \u001b[0;32mfrom\u001b[0m \u001b[0me\u001b[0m\u001b[0;34m\u001b[0m\u001b[0;34m\u001b[0m\u001b[0m\n\u001b[0m\u001b[1;32m    211\u001b[0m         \u001b[0;32mexcept\u001b[0m \u001b[0mSocketTimeout\u001b[0m \u001b[0;32mas\u001b[0m \u001b[0me\u001b[0m\u001b[0;34m:\u001b[0m\u001b[0;34m\u001b[0m\u001b[0;34m\u001b[0m\u001b[0m\n",
            "\u001b[0;31mNameResolutionError\u001b[0m: <urllib3.connection.HTTPSConnection object at 0x79cc42406410>: Failed to resolve 'www.romexchangetext.com' ([Errno -2] Name or service not known)",
            "\nThe above exception was the direct cause of the following exception:\n",
            "\u001b[0;31mMaxRetryError\u001b[0m                             Traceback (most recent call last)",
            "\u001b[0;32m/usr/local/lib/python3.10/dist-packages/requests/adapters.py\u001b[0m in \u001b[0;36msend\u001b[0;34m(self, request, stream, timeout, verify, cert, proxies)\u001b[0m\n\u001b[1;32m    485\u001b[0m         \u001b[0;32mtry\u001b[0m\u001b[0;34m:\u001b[0m\u001b[0;34m\u001b[0m\u001b[0;34m\u001b[0m\u001b[0m\n\u001b[0;32m--> 486\u001b[0;31m             resp = conn.urlopen(\n\u001b[0m\u001b[1;32m    487\u001b[0m                 \u001b[0mmethod\u001b[0m\u001b[0;34m=\u001b[0m\u001b[0mrequest\u001b[0m\u001b[0;34m.\u001b[0m\u001b[0mmethod\u001b[0m\u001b[0;34m,\u001b[0m\u001b[0;34m\u001b[0m\u001b[0;34m\u001b[0m\u001b[0m\n",
            "\u001b[0;32m/usr/local/lib/python3.10/dist-packages/urllib3/connectionpool.py\u001b[0m in \u001b[0;36murlopen\u001b[0;34m(self, method, url, body, headers, retries, redirect, assert_same_host, timeout, pool_timeout, release_conn, chunked, body_pos, preload_content, decode_content, **response_kw)\u001b[0m\n\u001b[1;32m    844\u001b[0m \u001b[0;34m\u001b[0m\u001b[0m\n\u001b[0;32m--> 845\u001b[0;31m             retries = retries.increment(\n\u001b[0m\u001b[1;32m    846\u001b[0m                 \u001b[0mmethod\u001b[0m\u001b[0;34m,\u001b[0m \u001b[0murl\u001b[0m\u001b[0;34m,\u001b[0m \u001b[0merror\u001b[0m\u001b[0;34m=\u001b[0m\u001b[0mnew_e\u001b[0m\u001b[0;34m,\u001b[0m \u001b[0m_pool\u001b[0m\u001b[0;34m=\u001b[0m\u001b[0mself\u001b[0m\u001b[0;34m,\u001b[0m \u001b[0m_stacktrace\u001b[0m\u001b[0;34m=\u001b[0m\u001b[0msys\u001b[0m\u001b[0;34m.\u001b[0m\u001b[0mexc_info\u001b[0m\u001b[0;34m(\u001b[0m\u001b[0;34m)\u001b[0m\u001b[0;34m[\u001b[0m\u001b[0;36m2\u001b[0m\u001b[0;34m]\u001b[0m\u001b[0;34m\u001b[0m\u001b[0;34m\u001b[0m\u001b[0m\n",
            "\u001b[0;32m/usr/local/lib/python3.10/dist-packages/urllib3/util/retry.py\u001b[0m in \u001b[0;36mincrement\u001b[0;34m(self, method, url, response, error, _pool, _stacktrace)\u001b[0m\n\u001b[1;32m    514\u001b[0m             \u001b[0mreason\u001b[0m \u001b[0;34m=\u001b[0m \u001b[0merror\u001b[0m \u001b[0;32mor\u001b[0m \u001b[0mResponseError\u001b[0m\u001b[0;34m(\u001b[0m\u001b[0mcause\u001b[0m\u001b[0;34m)\u001b[0m\u001b[0;34m\u001b[0m\u001b[0;34m\u001b[0m\u001b[0m\n\u001b[0;32m--> 515\u001b[0;31m             \u001b[0;32mraise\u001b[0m \u001b[0mMaxRetryError\u001b[0m\u001b[0;34m(\u001b[0m\u001b[0m_pool\u001b[0m\u001b[0;34m,\u001b[0m \u001b[0murl\u001b[0m\u001b[0;34m,\u001b[0m \u001b[0mreason\u001b[0m\u001b[0;34m)\u001b[0m \u001b[0;32mfrom\u001b[0m \u001b[0mreason\u001b[0m  \u001b[0;31m# type: ignore[arg-type]\u001b[0m\u001b[0;34m\u001b[0m\u001b[0;34m\u001b[0m\u001b[0m\n\u001b[0m\u001b[1;32m    516\u001b[0m \u001b[0;34m\u001b[0m\u001b[0m\n",
            "\u001b[0;31mMaxRetryError\u001b[0m: HTTPSConnectionPool(host='www.romexchangetext.com', port=443): Max retries exceeded with url: / (Caused by NameResolutionError(\"<urllib3.connection.HTTPSConnection object at 0x79cc42406410>: Failed to resolve 'www.romexchangetext.com' ([Errno -2] Name or service not known)\"))",
            "\nDuring handling of the above exception, another exception occurred:\n",
            "\u001b[0;31mConnectionError\u001b[0m                           Traceback (most recent call last)",
            "\u001b[0;32m<ipython-input-4-602865e15324>\u001b[0m in \u001b[0;36m<cell line: 1>\u001b[0;34m()\u001b[0m\n\u001b[0;32m----> 1\u001b[0;31m \u001b[0mr\u001b[0m\u001b[0;34m=\u001b[0m\u001b[0mrequests\u001b[0m\u001b[0;34m.\u001b[0m\u001b[0mget\u001b[0m\u001b[0;34m(\u001b[0m\u001b[0;34m'https://www.romexchangetext.com/'\u001b[0m\u001b[0;34m)\u001b[0m\u001b[0;34m\u001b[0m\u001b[0;34m\u001b[0m\u001b[0m\n\u001b[0m\u001b[1;32m      2\u001b[0m \u001b[0mr\u001b[0m\u001b[0;34m\u001b[0m\u001b[0;34m\u001b[0m\u001b[0m\n",
            "\u001b[0;32m/usr/local/lib/python3.10/dist-packages/requests/api.py\u001b[0m in \u001b[0;36mget\u001b[0;34m(url, params, **kwargs)\u001b[0m\n\u001b[1;32m     71\u001b[0m     \"\"\"\n\u001b[1;32m     72\u001b[0m \u001b[0;34m\u001b[0m\u001b[0m\n\u001b[0;32m---> 73\u001b[0;31m     \u001b[0;32mreturn\u001b[0m \u001b[0mrequest\u001b[0m\u001b[0;34m(\u001b[0m\u001b[0;34m\"get\"\u001b[0m\u001b[0;34m,\u001b[0m \u001b[0murl\u001b[0m\u001b[0;34m,\u001b[0m \u001b[0mparams\u001b[0m\u001b[0;34m=\u001b[0m\u001b[0mparams\u001b[0m\u001b[0;34m,\u001b[0m \u001b[0;34m**\u001b[0m\u001b[0mkwargs\u001b[0m\u001b[0;34m)\u001b[0m\u001b[0;34m\u001b[0m\u001b[0;34m\u001b[0m\u001b[0m\n\u001b[0m\u001b[1;32m     74\u001b[0m \u001b[0;34m\u001b[0m\u001b[0m\n\u001b[1;32m     75\u001b[0m \u001b[0;34m\u001b[0m\u001b[0m\n",
            "\u001b[0;32m/usr/local/lib/python3.10/dist-packages/requests/api.py\u001b[0m in \u001b[0;36mrequest\u001b[0;34m(method, url, **kwargs)\u001b[0m\n\u001b[1;32m     57\u001b[0m     \u001b[0;31m# cases, and look like a memory leak in others.\u001b[0m\u001b[0;34m\u001b[0m\u001b[0;34m\u001b[0m\u001b[0m\n\u001b[1;32m     58\u001b[0m     \u001b[0;32mwith\u001b[0m \u001b[0msessions\u001b[0m\u001b[0;34m.\u001b[0m\u001b[0mSession\u001b[0m\u001b[0;34m(\u001b[0m\u001b[0;34m)\u001b[0m \u001b[0;32mas\u001b[0m \u001b[0msession\u001b[0m\u001b[0;34m:\u001b[0m\u001b[0;34m\u001b[0m\u001b[0;34m\u001b[0m\u001b[0m\n\u001b[0;32m---> 59\u001b[0;31m         \u001b[0;32mreturn\u001b[0m \u001b[0msession\u001b[0m\u001b[0;34m.\u001b[0m\u001b[0mrequest\u001b[0m\u001b[0;34m(\u001b[0m\u001b[0mmethod\u001b[0m\u001b[0;34m=\u001b[0m\u001b[0mmethod\u001b[0m\u001b[0;34m,\u001b[0m \u001b[0murl\u001b[0m\u001b[0;34m=\u001b[0m\u001b[0murl\u001b[0m\u001b[0;34m,\u001b[0m \u001b[0;34m**\u001b[0m\u001b[0mkwargs\u001b[0m\u001b[0;34m)\u001b[0m\u001b[0;34m\u001b[0m\u001b[0;34m\u001b[0m\u001b[0m\n\u001b[0m\u001b[1;32m     60\u001b[0m \u001b[0;34m\u001b[0m\u001b[0m\n\u001b[1;32m     61\u001b[0m \u001b[0;34m\u001b[0m\u001b[0m\n",
            "\u001b[0;32m/usr/local/lib/python3.10/dist-packages/requests/sessions.py\u001b[0m in \u001b[0;36mrequest\u001b[0;34m(self, method, url, params, data, headers, cookies, files, auth, timeout, allow_redirects, proxies, hooks, stream, verify, cert, json)\u001b[0m\n\u001b[1;32m    587\u001b[0m         }\n\u001b[1;32m    588\u001b[0m         \u001b[0msend_kwargs\u001b[0m\u001b[0;34m.\u001b[0m\u001b[0mupdate\u001b[0m\u001b[0;34m(\u001b[0m\u001b[0msettings\u001b[0m\u001b[0;34m)\u001b[0m\u001b[0;34m\u001b[0m\u001b[0;34m\u001b[0m\u001b[0m\n\u001b[0;32m--> 589\u001b[0;31m         \u001b[0mresp\u001b[0m \u001b[0;34m=\u001b[0m \u001b[0mself\u001b[0m\u001b[0;34m.\u001b[0m\u001b[0msend\u001b[0m\u001b[0;34m(\u001b[0m\u001b[0mprep\u001b[0m\u001b[0;34m,\u001b[0m \u001b[0;34m**\u001b[0m\u001b[0msend_kwargs\u001b[0m\u001b[0;34m)\u001b[0m\u001b[0;34m\u001b[0m\u001b[0;34m\u001b[0m\u001b[0m\n\u001b[0m\u001b[1;32m    590\u001b[0m \u001b[0;34m\u001b[0m\u001b[0m\n\u001b[1;32m    591\u001b[0m         \u001b[0;32mreturn\u001b[0m \u001b[0mresp\u001b[0m\u001b[0;34m\u001b[0m\u001b[0;34m\u001b[0m\u001b[0m\n",
            "\u001b[0;32m/usr/local/lib/python3.10/dist-packages/requests/sessions.py\u001b[0m in \u001b[0;36msend\u001b[0;34m(self, request, **kwargs)\u001b[0m\n\u001b[1;32m    701\u001b[0m \u001b[0;34m\u001b[0m\u001b[0m\n\u001b[1;32m    702\u001b[0m         \u001b[0;31m# Send the request\u001b[0m\u001b[0;34m\u001b[0m\u001b[0;34m\u001b[0m\u001b[0m\n\u001b[0;32m--> 703\u001b[0;31m         \u001b[0mr\u001b[0m \u001b[0;34m=\u001b[0m \u001b[0madapter\u001b[0m\u001b[0;34m.\u001b[0m\u001b[0msend\u001b[0m\u001b[0;34m(\u001b[0m\u001b[0mrequest\u001b[0m\u001b[0;34m,\u001b[0m \u001b[0;34m**\u001b[0m\u001b[0mkwargs\u001b[0m\u001b[0;34m)\u001b[0m\u001b[0;34m\u001b[0m\u001b[0;34m\u001b[0m\u001b[0m\n\u001b[0m\u001b[1;32m    704\u001b[0m \u001b[0;34m\u001b[0m\u001b[0m\n\u001b[1;32m    705\u001b[0m         \u001b[0;31m# Total elapsed time of the request (approximately)\u001b[0m\u001b[0;34m\u001b[0m\u001b[0;34m\u001b[0m\u001b[0m\n",
            "\u001b[0;32m/usr/local/lib/python3.10/dist-packages/requests/adapters.py\u001b[0m in \u001b[0;36msend\u001b[0;34m(self, request, stream, timeout, verify, cert, proxies)\u001b[0m\n\u001b[1;32m    517\u001b[0m                 \u001b[0;32mraise\u001b[0m \u001b[0mSSLError\u001b[0m\u001b[0;34m(\u001b[0m\u001b[0me\u001b[0m\u001b[0;34m,\u001b[0m \u001b[0mrequest\u001b[0m\u001b[0;34m=\u001b[0m\u001b[0mrequest\u001b[0m\u001b[0;34m)\u001b[0m\u001b[0;34m\u001b[0m\u001b[0;34m\u001b[0m\u001b[0m\n\u001b[1;32m    518\u001b[0m \u001b[0;34m\u001b[0m\u001b[0m\n\u001b[0;32m--> 519\u001b[0;31m             \u001b[0;32mraise\u001b[0m \u001b[0mConnectionError\u001b[0m\u001b[0;34m(\u001b[0m\u001b[0me\u001b[0m\u001b[0;34m,\u001b[0m \u001b[0mrequest\u001b[0m\u001b[0;34m=\u001b[0m\u001b[0mrequest\u001b[0m\u001b[0;34m)\u001b[0m\u001b[0;34m\u001b[0m\u001b[0;34m\u001b[0m\u001b[0m\n\u001b[0m\u001b[1;32m    520\u001b[0m \u001b[0;34m\u001b[0m\u001b[0m\n\u001b[1;32m    521\u001b[0m         \u001b[0;32mexcept\u001b[0m \u001b[0mClosedPoolError\u001b[0m \u001b[0;32mas\u001b[0m \u001b[0me\u001b[0m\u001b[0;34m:\u001b[0m\u001b[0;34m\u001b[0m\u001b[0;34m\u001b[0m\u001b[0m\n",
            "\u001b[0;31mConnectionError\u001b[0m: HTTPSConnectionPool(host='www.romexchangetext.com', port=443): Max retries exceeded with url: / (Caused by NameResolutionError(\"<urllib3.connection.HTTPSConnection object at 0x79cc42406410>: Failed to resolve 'www.romexchangetext.com' ([Errno -2] Name or service not known)\"))"
          ]
        }
      ]
    },
    {
      "cell_type": "code",
      "source": [
        "r.status_code\n"
      ],
      "metadata": {
        "colab": {
          "base_uri": "https://localhost:8080/"
        },
        "id": "o1Wxm6Z3x-Ie",
        "outputId": "1f31a674-25c3-4eb4-dae6-04c95d43848b"
      },
      "execution_count": 5,
      "outputs": [
        {
          "output_type": "execute_result",
          "data": {
            "text/plain": [
              "406"
            ]
          },
          "metadata": {},
          "execution_count": 5
        }
      ]
    },
    {
      "cell_type": "code",
      "source": [
        "url='https://upsconline.nic.in//'\n",
        "headers = { 'content-type' : 'application/json'}\n",
        "r=requests.get(url, headers = headers)\n",
        "r.text\n",
        "r.content\n"
      ],
      "metadata": {
        "colab": {
          "base_uri": "https://localhost:8080/"
        },
        "id": "Iiq7nnJoym6f",
        "outputId": "63da7050-bdb8-4eff-cbe6-c1b798b69a0a"
      },
      "execution_count": 17,
      "outputs": [
        {
          "output_type": "execute_result",
          "data": {
            "text/plain": [
              "b'\\xef\\xbb\\xbf<html>\\n<head>\\n<title>Union Public Service Commission</title>\\n<meta http-equiv=\"Content-Type\" content=\"text/html; charset=iso-8859-1\">\\n<link rel=\"stylesheet\" type=\"text/css\" href=\"style.css\">\\n<SCRIPT type=\"text/javascript\" src=\"functions.js\"></script>\\n<SCRIPT type=\"text/javascript\" src=\"validsec.js\"></script>\\n<SCRIPT type=\"text/javascript\" src=\"commonf.js\"></script>\\n<link rel=\"stylesheet\" type=\"text/css\" href=\"popupmenu.css\" />\\n<script type=\"text/javascript\" src=\"popupmenu.js\">\\n</script>\\n<style type=\"text/css\">\\nbody {\\n\\tmargin-left: 0px;\\n\\tmargin-top: 0px;\\n\\tmargin-right: 0px;\\n\\tmargin-bottom: 0px;\\n}\\n.style1 {font-size: 18px}\\n.style2 {\\n\\tfont-size: 18px;\\n\\tfont-weight: bold;\\n\\tfont-family: Verdana, Arial, Helvetica, sans-serif;\\n}\\n</style></head>\\n<body onLoad=\"scrollIn()\">\\n\\n<table width=\"100%\" height=\"15%\" border=\"0\" cellpadding=\"0\" cellspacing=\"0\">\\n<tr><td><img src=images/upschead.jpg width=100%></td></tr>\\n<tr>\\n</tr>\\n</table>\\n<table >\\n<script>\\n//function apfc_eo_ao() {\\n  //alert(\"If you have ever registered in OTR (One Time Registration) of ORA online application then you have to register yourself on OTR (One Time Registration) of UPSC examination by clicking \\'New Registration\\' button. Applicants, who have already registered themselves in OTR of UPSC Examination, are advised to login with Email ID / Mobile Number / OTR ID under \\'Already Registered\\' to fill the Application Form.\");\\n//}\\n</script>\\n\\n  </td>\\n<script language=\"javascript\">\\nvar mydate=new Date()\\nvar year=mydate.getYear()\\nif (year < 1000)\\nyear+=1900\\nvar day=mydate.getDay()\\nvar month=mydate.getMonth()\\nvar daym=mydate.getDate()\\nif (daym<10)\\ndaym=\"0\"+daym\\nvar dayarray=new Array(\"Sunday \\xe0\\xa4\\xb0\\xe0\\xa4\\xb5\\xe0\\xa4\\xbf\\xe0\\xa4\\xb5\\xe0\\xa4\\xbe\\xe0\\xa4\\xb0\",\"Monday \\xe0\\xa4\\xb8\\xe0\\xa5\\x8b\\xe0\\xa4\\xae\\xe0\\xa4\\xb5\\xe0\\xa4\\xbe\\xe0\\xa4\\xb0\",\"Tuesday \\xe0\\xa4\\xae\\xe0\\xa4\\x82\\xe0\\xa4\\x97\\xe0\\xa4\\xb2\\xe0\\xa4\\xb5\\xe0\\xa4\\xbe\\xe0\\xa4\\xb0\",\"Wednesday \\xe0\\xa4\\xac\\xe0\\xa5\\x81\\xe0\\xa4\\xa7\\xe0\\xa4\\xb5\\xe0\\xa4\\xbe\\xe0\\xa4\\xb0\",\"Thursday \\xe0\\xa4\\x97\\xe0\\xa5\\x81\\xe0\\xa4\\xb0\\xe0\\xa5\\x82\\xe0\\xa4\\xb5\\xe0\\xa4\\xbe\\xe0\\xa4\\xb0\",\"Friday \\xe0\\xa4\\xb6\\xe0\\xa5\\x81\\xe0\\xa4\\x95\\xe0\\xa5\\x8d\\xe0\\xa4\\xb0\\xe0\\xa4\\xb5\\xe0\\xa4\\xbe\\xe0\\xa4\\xb0\",\"Saturday \\xe0\\xa4\\xb6\\xe0\\xa4\\xa8\\xe0\\xa4\\xbf\\xe0\\xa4\\xb5\\xe0\\xa4\\xbe\\xe0\\xa4\\xb0\")\\nvar montharray=new Array(\"January \\xe0\\xa4\\x9c\\xe0\\xa4\\xa8\\xe0\\xa4\\xb5\\xe0\\xa4\\xb0\\xe0\\xa5\\x80\",\"February \\xe0\\xa4\\xab\\xe0\\xa4\\xb0\\xe0\\xa4\\xb5\\xe0\\xa4\\xb0\\xe0\\xa5\\x80\",\"March \\xe0\\xa4\\xae\\xe0\\xa4\\xbe\\xe0\\xa4\\xb0\\xe0\\xa5\\x8d\\xe0\\xa4\\x9a\",\"April \\xe0\\xa4\\x85\\xe0\\xa4\\xaa\\xe0\\xa5\\x8d\\xe0\\xa4\\xb0\\xe0\\xa5\\x88\\xe0\\xa4\\xb2\",\"May \\xe0\\xa4\\xae\\xe0\\xa4\\x88\",\"June \\xe0\\xa4\\x9c\\xe0\\xa5\\x82\\xe0\\xa4\\xa8\",\"July \\xe0\\xa4\\x9c\\xe0\\xa5\\x81\\xe0\\xa4\\xb2\\xe0\\xa4\\xbe\\xe0\\xa4\\x88\",\"August \\xe0\\xa4\\x85\\xe0\\xa4\\x97\\xe0\\xa4\\xb8\\xe0\\xa5\\x8d\\xe0\\xa4\\xa4\",\"September \\xe0\\xa4\\xb8\\xe0\\xa4\\xbf\\xe0\\xa4\\xa4\\xe0\\xa4\\x82\\xe0\\xa4\\xac\\xe0\\xa4\\xb0\",\"October \\xe0\\xa4\\x85\\xe0\\xa4\\x95\\xe0\\xa5\\x8d\\xe0\\xa4\\x9f\\xe0\\xa5\\x82\\xe0\\xa4\\xac\\xe0\\xa4\\xb0\",\"November \\xe0\\xa4\\xa8\\xe0\\xa4\\xb5\\xe0\\xa4\\x82\\xe0\\xa4\\xac\\xe0\\xa4\\xb0\",\"December \\xe0\\xa4\\xa6\\xe0\\xa4\\xbf\\xe0\\xa4\\xb8\\xe0\\xa4\\x82\\xe0\\xa4\\xac\\xe0\\xa4\\xb0\")\\ndocument.write(\"<td nowrap align=right><font size=1 face=\\'verdana\\' color=\\'#ebeff6\\'>\")\\ndocument.write(\"<b>\"+dayarray[day]+\", \"+montharray[month]+\" \"+daym+\", \"+year+\"</b>\")\\ndocument.write(\"</font></td></tr>\")\\n</script>\\n</table>\\n\\n<table width=\"100%\" border=\"0\" cellspacing=\"0\" cellpadding=\"0\">\\n  <tr>\\n    <td><table width=\"100%\" border=\"0\" cellspacing=\"0\" cellpadding=\"0\">\\n\\n    <tr>\\n        <td>&nbsp;</td>\\n      </tr>\\n\\t  <tr>\\n        <td>&nbsp;</td>\\n      </tr>\\n\\t  <tr>\\n        <td valign=\"top\" align=\"center\"><font color=\"red\"><strong>Correction window to modify the entries (including Photograph/Signature) made by the\\napplicant<br> in their application for CS (P)/IFoS (P) Exam 2024 will be available from 7th March to 13th March 2024.</strong></font></td>\\n      </tr>\\n\\t  <tr>\\n        <td>&nbsp;</td>\\n      </tr>\\n\\t  <!--\\n\\t  <tr>\\n        <td valign=\"top\" align=\"center\"><p class=\"style2\"><a href=\"./CSP2023_WR_Hn_12062023.pdf\" style=\"text-decoration:none;\">\\xe0\\xa4\\xb2\\xe0\\xa4\\xbf\\xe0\\xa4\\x96\\xe0\\xa4\\xbf\\xe0\\xa4\\xa4 \\xe0\\xa4\\xaa\\xe0\\xa4\\xb0\\xe0\\xa4\\xbf\\xe0\\xa4\\xa3\\xe0\\xa4\\xbe\\xe0\\xa4\\xae - \\xe0\\xa4\\xb8\\xe0\\xa4\\xbf\\xe0\\xa4\\xb5\\xe0\\xa4\\xbf\\xe0\\xa4\\xb2 \\xe0\\xa4\\xb8\\xe0\\xa5\\x87\\xe0\\xa4\\xb5\\xe0\\xa4\\xbe (\\xe0\\xa4\\xaa\\xe0\\xa5\\x8d\\xe0\\xa4\\xb0\\xe0\\xa4\\xbe\\xe0\\xa4\\xb0\\xe0\\xa4\\x82\\xe0\\xa4\\xad\\xe0\\xa4\\xbf\\xe0\\xa4\\x95) \\xe0\\xa4\\xaa\\xe0\\xa4\\xb0\\xe0\\xa5\\x80\\xe0\\xa4\\x95\\xe0\\xa5\\x8d\\xe0\\xa4\\xb7\\xe0\\xa4\\xbe, 2023</a></p></td>\\n      </tr>\\n      <tr>\\n        <td>&nbsp;</td>\\n      </tr>\\n      <tr>\\n        <td valign=\"top\" align=\"center\"><p class=\"style2\"><a href=\"./CSP2023_WR_Name_Eng_12062023.pdf\" style=\"text-decoration:none;\">Written Result (with name) - Civil Services (Preliminary) Examination, 2023</a></p></td>\\n      </tr>\\n\\n      <tr>\\n        <td>&nbsp;</td>\\n      </tr>\\n\\n      <tr>\\n        <td valign=\"top\" align=\"center\"><p class=\"style2\"><a href=\"./IFS_2023_WR_En_120623.pdf\" style=\"text-decoration:none;\">Written Result - Indian Forest Service (Preliminary) Examination, 2023 through CS(P) Examination 2023</a></p></td>\\n      </tr>\\n      <tr>\\n        <td valign=\"top\" align=\"center\"><p class=\"style2\"><a href=\"./IFSP-2023-WR_Hn_12062023.pdf\" style=\"text-decoration:none;\">\\xe0\\xa4\\xb2\\xe0\\xa4\\xbf\\xe0\\xa4\\x96\\xe0\\xa4\\xbf\\xe0\\xa4\\xa4 \\xe0\\xa4\\xaa\\xe0\\xa4\\xb0\\xe0\\xa4\\xbf\\xe0\\xa4\\xa3\\xe0\\xa4\\xbe\\xe0\\xa4\\xae - \\xe0\\xa4\\xb8\\xe0\\xa4\\xbf\\xe0\\xa4\\xb5\\xe0\\xa4\\xbf\\xe0\\xa4\\xb2 \\xe0\\xa4\\xb8\\xe0\\xa5\\x87\\xe0\\xa4\\xb5\\xe0\\xa4\\xbe (\\xe0\\xa4\\xaa\\xe0\\xa5\\x8d\\xe0\\xa4\\xb0\\xe0\\xa4\\xbe\\xe0\\xa4\\xb0\\xe0\\xa4\\x82\\xe0\\xa4\\xad\\xe0\\xa4\\xbf\\xe0\\xa4\\x95) \\xe0\\xa4\\xaa\\xe0\\xa4\\xb0\\xe0\\xa5\\x80\\xe0\\xa4\\x95\\xe0\\xa5\\x8d\\xe0\\xa4\\xb7\\xe0\\xa4\\xbe 2023 \\xe0\\xa4\\x95\\xe0\\xa5\\x87 \\xe0\\xa4\\xae\\xe0\\xa4\\xbe\\xe0\\xa4\\xa7\\xe0\\xa5\\x8d\\xe0\\xa4\\xaf\\xe0\\xa4\\xae \\xe0\\xa4\\xb8\\xe0\\xa5\\x87 \\xe0\\xa4\\xad\\xe0\\xa4\\xbe\\xe0\\xa4\\xb0\\xe0\\xa4\\xa4\\xe0\\xa5\\x80\\xe0\\xa4\\xaf \\xe0\\xa4\\xb5\\xe0\\xa4\\xa8 \\xe0\\xa4\\xb8\\xe0\\xa5\\x87\\xe0\\xa4\\xb5\\xe0\\xa4\\xbe (\\xe0\\xa4\\xaa\\xe0\\xa5\\x8d\\xe0\\xa4\\xb0\\xe0\\xa4\\xbe\\xe0\\xa4\\xb0\\xe0\\xa4\\x82\\xe0\\xa4\\xad\\xe0\\xa4\\xbf\\xe0\\xa4\\x95) \\xe0\\xa4\\xaa\\xe0\\xa4\\xb0\\xe0\\xa5\\x80\\xe0\\xa4\\x95\\xe0\\xa5\\x8d\\xe0\\xa4\\xb7\\xe0\\xa4\\xbe, 2023</a></p></td>\\n      </tr>\\n      <tr>\\n        <td>&nbsp;</td>\\n      </tr>\\n      <tr>\\n        <td valign=\"top\" align=\"center\"><p class=\"style2\"><a href=\"./IFSP-2023-WR_Name_Eng_12062023.pdf\" style=\"text-decoration:none;\">Written Result (with name) - Indian Forest Service (Preliminary) Examination, 2023 through CS(P) Examination 2023</a></p></td>\\n      </tr>\\n\\n      <tr>\\n        <td>&nbsp;</td>\\n      </tr>\\n-->\\n      <tr>\\n        <td valign=\"top\" align=\"center\"><p class=\"style2\"><a href=\"./WR-CSM-23-engl-Roll-List-081223.pdf\" style=\"text-decoration:none;\">Written Result - Civil Services (Main) Examination, 2023</a></p></td>\\n      </tr>\\n\\t  <tr>\\n        <td valign=\"top\" align=\"center\"><p class=\"style2\"><a href=\"./WR-CSM-23-hindi-Roll-List-081223.pdf\" style=\"text-decoration:none;\">\\xe0\\xa4\\xb2\\xe0\\xa4\\xbf\\xe0\\xa4\\x96\\xe0\\xa4\\xbf\\xe0\\xa4\\xa4 \\xe0\\xa4\\xaa\\xe0\\xa4\\xb0\\xe0\\xa4\\xbf\\xe0\\xa4\\xa3\\xe0\\xa4\\xbe\\xe0\\xa4\\xae - \\xe0\\xa4\\xb8\\xe0\\xa4\\xbf\\xe0\\xa4\\xb5\\xe0\\xa4\\xbf\\xe0\\xa4\\xb2 \\xe0\\xa4\\xb8\\xe0\\xa5\\x87\\xe0\\xa4\\xb5\\xe0\\xa4\\xbe (\\xe0\\xa4\\xaa\\xe0\\xa5\\x8d\\xe0\\xa4\\xb0\\xe0\\xa4\\xa7\\xe0\\xa4\\xbe\\xe0\\xa4\\xa8) \\xe0\\xa4\\xaa\\xe0\\xa4\\xb0\\xe0\\xa5\\x80\\xe0\\xa4\\x95\\xe0\\xa5\\x8d\\xe0\\xa4\\xb7\\xe0\\xa4\\xbe, 2023</a></p></td>\\n      </tr>\\n      <tr>\\n        <td>&nbsp;</td>\\n      </tr>\\n\\t   <tr>\\n\\t         </tr>\\n\\t  <tr>\\n        <td></td>\\n      </tr>\\n      <tr>\\n        <td valign=\"top\" align=\"center\"><p class=\"style2\"><a href=\"upsc/OTRP/index.php\" style=\"text-decoration:none;\">Application for Nursing Officer in Employees State Insurance Corporation : 2024 & Personal Assistant in Employee Provident Fund Organisation : 2024</a></p></td>\\n      </tr>\\n      <tr>\\n        <td valign=\"top\" align=\"center\"><p class=\"style2\"><a href=\"upsc/OTRP/index.php\" style=\"text-decoration:none;\">\\xe0\\xa4\\x95\\xe0\\xa4\\xb0\\xe0\\xa5\\x8d\\xe0\\xa4\\xae\\xe0\\xa4\\x9a\\xe0\\xa4\\xbe\\xe0\\xa4\\xb0\\xe0\\xa5\\x80 \\xe0\\xa4\\xb0\\xe0\\xa4\\xbe\\xe0\\xa4\\x9c\\xe0\\xa5\\x8d\\xe0\\xa4\\xaf \\xe0\\xa4\\xac\\xe0\\xa5\\x80\\xe0\\xa4\\xae\\xe0\\xa4\\xbe \\xe0\\xa4\\xa8\\xe0\\xa4\\xbf\\xe0\\xa4\\x97\\xe0\\xa4\\xae \\xe0\\xa4\\xae\\xe0\\xa5\\x87\\xe0\\xa4\\x82 \\xe0\\xa4\\xa8\\xe0\\xa4\\xb0\\xe0\\xa5\\x8d\\xe0\\xa4\\xb8\\xe0\\xa4\\xbf\\xe0\\xa4\\x82\\xe0\\xa4\\x97 \\xe0\\xa4\\x85\\xe0\\xa4\\xa7\\xe0\\xa4\\xbf\\xe0\\xa4\\x95\\xe0\\xa4\\xbe\\xe0\\xa4\\xb0\\xe0\\xa5\\x80 : 2024 \\xe0\\xa4\\x94\\xe0\\xa4\\xb0 \\xe0\\xa4\\x95\\xe0\\xa4\\xb0\\xe0\\xa5\\x8d\\xe0\\xa4\\xae\\xe0\\xa4\\x9a\\xe0\\xa4\\xbe\\xe0\\xa4\\xb0\\xe0\\xa5\\x80 \\xe0\\xa4\\xad\\xe0\\xa4\\xb5\\xe0\\xa4\\xbf\\xe0\\xa4\\xb7\\xe0\\xa5\\x8d\\xe0\\xa4\\xaf \\xe0\\xa4\\xa8\\xe0\\xa4\\xbf\\xe0\\xa4\\xa7\\xe0\\xa4\\xbf \\xe0\\xa4\\xb8\\xe0\\xa4\\x82\\xe0\\xa4\\x97\\xe0\\xa4\\xa0\\xe0\\xa4\\xa8 \\xe0\\xa4\\xae\\xe0\\xa5\\x87\\xe0\\xa4\\x82 \\xe0\\xa4\\xb5\\xe0\\xa5\\x88\\xe0\\xa4\\xaf\\xe0\\xa4\\x95\\xe0\\xa5\\x8d\\xe0\\xa4\\xa4\\xe0\\xa4\\xbf\\xe0\\xa4\\x95 \\xe0\\xa4\\xb8\\xe0\\xa4\\xb9\\xe0\\xa4\\xbe\\xe0\\xa4\\xaf\\xe0\\xa4\\x95 : 2024 \\xe0\\xa4\\x95\\xe0\\xa5\\x87 \\xe0\\xa4\\xb2\\xe0\\xa4\\xbf\\xe0\\xa4\\x8f \\xe0\\xa4\\x86\\xe0\\xa4\\xb5\\xe0\\xa5\\x87\\xe0\\xa4\\xa6\\xe0\\xa4\\xa8</a></p></td>\\n      </tr>\\n      <tr>\\n        <td>&nbsp;</td>\\n      </tr>\\n      <tr>\\n        <td valign=\"top\" align=\"center\"><p class=\"style2\"><a href=\"upsc/OTRP/index.php\" style=\"text-decoration:none;\"> One-time registration (OTR) for examinations of UPSC and online application</a></p></td>\\n      </tr>\\n\\t  <tr>\\n        <td valign=\"top\" align=\"center\"><p class=\"style2\"><a href=\"upsc/OTRP/index.php\" style=\"text-decoration:none;\">\\xe0\\xa4\\xb8\\xe0\\xa4\\x82\\xe0\\xa4\\x98 \\xe0\\xa4\\xb2\\xe0\\xa5\\x8b\\xe0\\xa4\\x95 \\xe0\\xa4\\xb8\\xe0\\xa5\\x87\\xe0\\xa4\\xb5\\xe0\\xa4\\xbe \\xe0\\xa4\\x86\\xe0\\xa4\\xaf\\xe0\\xa5\\x8b\\xe0\\xa4\\x97 \\xe0\\xa4\\x95\\xe0\\xa5\\x80 \\xe0\\xa4\\xb5\\xe0\\xa4\\xbf\\xe0\\xa4\\xad\\xe0\\xa4\\xbf\\xe0\\xa4\\xa8\\xe0\\xa5\\x8d\\xe0\\xa4\\xa8 \\xe0\\xa4\\xaa\\xe0\\xa4\\xb0\\xe0\\xa5\\x80\\xe0\\xa4\\x95\\xe0\\xa5\\x8d\\xe0\\xa4\\xb7\\xe0\\xa4\\xbe\\xe0\\xa4\\x93\\xe0\\xa4\\x82 \\xe0\\xa4\\x95\\xe0\\xa5\\x87 \\xe0\\xa4\\xb2\\xe0\\xa4\\xbf\\xe0\\xa4\\x8f \\xe0\\xa4\\x8f\\xe0\\xa4\\x95\\xe0\\xa4\\xae\\xe0\\xa5\\x81\\xe0\\xa4\\xb6\\xe0\\xa5\\x8d\\xe0\\xa4\\xa4 \\xe0\\xa4\\xaa\\xe0\\xa4\\x82\\xe0\\xa4\\x9c\\xe0\\xa5\\x80\\xe0\\xa4\\x95\\xe0\\xa4\\xb0\\xe0\\xa4\\xa3 (\\xe0\\xa4\\x93\\xe0\\xa4\\x9f\\xe0\\xa5\\x80\\xe0\\xa4\\x86\\xe0\\xa4\\xb0) \\xe0\\xa4\\x94\\xe0\\xa4\\xb0 \\xe0\\xa4\\x91\\xe0\\xa4\\xa8\\xe0\\xa4\\xb2\\xe0\\xa4\\xbe\\xe0\\xa4\\x87\\xe0\\xa4\\xa8 \\xe0\\xa4\\x86\\xe0\\xa4\\xb5\\xe0\\xa5\\x87\\xe0\\xa4\\xa6\\xe0\\xa4\\xa8</a></p></td>\\n      </tr>\\n\\n    <!--  <tr>\\n        <td>&nbsp;</td>\\n      </tr>\\n\\t<tr>\\n         <td valign=\"top\" align=\"center\"><p class=\"style2\" style=\"border: 0px solid black;\"><a href=\"change_centre/appmainmenu.php\" style=\"text-decoration:none;\" >ONLINE REQUEST FOR CHANGE OF EXAMINATION CENTRE FOR IMPHAL CENTRE ONLY</a></p></td>\\n      </tr>\\n    <tr>\\n        <td valign=\"top\" align=\"center\"><p class=\"style2\"><a href=\"change_centre/appmainmenu.php\" style=\"text-decoration:none;\">\\xe0\\xa4\\x95\\xe0\\xa5\\x87\\xe0\\xa4\\xb5\\xe0\\xa4\\xb2 \\xe0\\xa4\\x87\\xe0\\xa4\\x82\\xe0\\xa4\\xab\\xe0\\xa4\\xbe\\xe0\\xa4\\xb2 \\xe0\\xa4\\x95\\xe0\\xa5\\x87\\xe0\\xa4\\x82\\xe0\\xa4\\xa6\\xe0\\xa5\\x8d\\xe0\\xa4\\xb0 \\xe0\\xa4\\x95\\xe0\\xa5\\x87 \\xe0\\xa4\\xb2\\xe0\\xa4\\xbf\\xe0\\xa4\\x8f \\xe0\\xa4\\xaa\\xe0\\xa4\\xb0\\xe0\\xa5\\x80\\xe0\\xa4\\x95\\xe0\\xa5\\x8d\\xe0\\xa4\\xb7\\xe0\\xa4\\xbe \\xe0\\xa4\\x95\\xe0\\xa5\\x87\\xe0\\xa4\\x82\\xe0\\xa4\\xa6\\xe0\\xa5\\x8d\\xe0\\xa4\\xb0 \\xe0\\xa4\\xae\\xe0\\xa5\\x87\\xe0\\xa4\\x82 \\xe0\\xa4\\xaa\\xe0\\xa4\\xb0\\xe0\\xa4\\xbf\\xe0\\xa4\\xb5\\xe0\\xa4\\xb0\\xe0\\xa5\\x8d\\xe0\\xa4\\xa4\\xe0\\xa4\\xa8 \\xe0\\xa4\\x95\\xe0\\xa5\\x87 \\xe0\\xa4\\xb2\\xe0\\xa4\\xbf\\xe0\\xa4\\x8f \\xe0\\xa4\\x91\\xe0\\xa4\\xa8\\xe0\\xa4\\xb2\\xe0\\xa4\\xbe\\xe0\\xa4\\x87\\xe0\\xa4\\xa8 \\xe0\\xa4\\x85\\xe0\\xa4\\xa8\\xe0\\xa5\\x81\\xe0\\xa4\\xb0\\xe0\\xa5\\x8b\\xe0\\xa4\\xa7   </a></p></td>\\n      </tr>-->\\n      <tr>\\n        <td>&nbsp;</td>\\n      </tr>\\n\\n\\n\\n\\t  <tr>\\n        <td valign=\"top\" align=\"center\"><p class=\"style2\"><a href=\"../ora/VacancyNoticePub.php\" style=\"text-decoration:none;\">ONLINE RECRUITMENT APPLICATION (ORA) FOR VARIOUS RECRUITMENT POSTS</a></p></td>\\n      </tr>\\n\\t  <tr>\\n        <td valign=\"top\" align=\"center\"><p class=\"style2\"><a href=\"../ora/VacancyNoticePub.php\" style=\"text-decoration:none;\">\\xe0\\xa4\\xb5\\xe0\\xa4\\xbf\\xe0\\xa4\\xad\\xe0\\xa4\\xbf\\xe0\\xa4\\xa8\\xe0\\xa5\\x8d\\xe0\\xa4\\xa8 \\xe0\\xa4\\xaa\\xe0\\xa4\\xa6\\xe0\\xa5\\x8b\\xe0\\xa4\\x82 \\xe0\\xa4\\x95\\xe0\\xa5\\x87 \\xe0\\xa4\\xb2\\xe0\\xa4\\xbf\\xe0\\xa4\\x8f \\xe0\\xa4\\x91\\xe0\\xa4\\xa8\\xe0\\xa4\\xb2\\xe0\\xa4\\xbe\\xe0\\xa4\\x87\\xe0\\xa4\\xa8 \\xe0\\xa4\\xad\\xe0\\xa4\\xb0\\xe0\\xa5\\x8d\\xe0\\xa4\\xa4\\xe0\\xa5\\x80 \\xe0\\xa4\\x86\\xe0\\xa4\\xb5\\xe0\\xa5\\x87\\xe0\\xa4\\xa6\\xe0\\xa4\\xa8 (\\xe0\\xa4\\x93.\\xe0\\xa4\\x86\\xe0\\xa4\\xb0.\\xe0\\xa4\\x8f.)</a></p></td>\\n      </tr> \\n\\t  <tr>\\n        <td>&nbsp;</td>\\n      </tr> \\n\\t   <tr>\\n        <td valign=\"top\" align=\"center\"><p class=\"style2\"><a href=\"../oraadmitcard/admitcard_candidate/\" style=\"text-decoration:none;\">e-Admit Cards For Recruitment Test/Computer Based Recruitment Test For Various Recruitment Posts(ORA)</a></p></td>\\n      </tr>\\n\\t  <tr>\\n        <td valign=\"top\" align=\"center\"><p class=\"style2\"><a href=\"../oraadmitcard/admitcard_candidate/\" style=\"text-decoration:none;\"> \\xe0\\xa4\\xb5\\xe0\\xa4\\xbf\\xe0\\xa4\\xad\\xe0\\xa4\\xbf\\xe0\\xa4\\xa8\\xe0\\xa5\\x8d\\xe0\\xa4\\xa8 \\xe0\\xa4\\xaa\\xe0\\xa4\\xa6\\xe0\\xa5\\x8b\\xe0\\xa4\\x82 \\xe0\\xa4\\x95\\xe0\\xa5\\x87 \\xe0\\xa4\\xad\\xe0\\xa4\\xb0\\xe0\\xa5\\x8d\\xe0\\xa4\\xa4\\xe0\\xa5\\x80 \\xe0\\xa4\\xaa\\xe0\\xa4\\xb0\\xe0\\xa5\\x80\\xe0\\xa4\\x95\\xe0\\xa5\\x8d\\xe0\\xa4\\xb7\\xe0\\xa4\\xbe / \\xe0\\xa4\\x95\\xe0\\xa4\\x82\\xe0\\xa4\\xaa\\xe0\\xa5\\x8d\\xe0\\xa4\\xaf\\xe0\\xa5\\x82\\xe0\\xa4\\x9f\\xe0\\xa4\\xb0 \\xe0\\xa4\\x86\\xe0\\xa4\\xa7\\xe0\\xa4\\xbe\\xe0\\xa4\\xb0\\xe0\\xa4\\xbf\\xe0\\xa4\\xa4 \\xe0\\xa4\\xad\\xe0\\xa4\\xb0\\xe0\\xa5\\x8d\\xe0\\xa4\\xa4\\xe0\\xa5\\x80 \\xe0\\xa4\\xaa\\xe0\\xa4\\xb0\\xe0\\xa5\\x80\\xe0\\xa4\\x95\\xe0\\xa5\\x8d\\xe0\\xa4\\xb7\\xe0\\xa4\\xbe \\xe0\\xa4\\x95\\xe0\\xa5\\x87 \\xe0\\xa4\\xb2\\xe0\\xa4\\xbf\\xe0\\xa4\\x8f \\xe0\\xa4\\x88-\\xe0\\xa4\\xaa\\xe0\\xa5\\x8d\\xe0\\xa4\\xb0\\xe0\\xa4\\xb5\\xe0\\xa5\\x87\\xe0\\xa4\\xb6 \\xe0\\xa4\\xaa\\xe0\\xa4\\xa4\\xe0\\xa5\\x8d\\xe0\\xa4\\xb0 (\\xe0\\xa4\\x93.\\xe0\\xa4\\x86\\xe0\\xa4\\xb0.\\xe0\\xa4\\x8f.)</a></p></td>\\n      </tr> \\n\\t   <tr>\\n        <td>&nbsp;</td>\\n      </tr> \\n\\t<tr>\\n        <td>&nbsp;</td>\\n      </tr> \\n\\t  \\t  <tr>\\n        <td valign=\"top\" align=\"center\"><p class=\"style2\"><a href=\"../eadmitcard/index.php\" style=\"text-decoration:none;\">\\n        e-Admit Cards for VARIOUS EXAMINATIONS OF UPSC</a></p></td>\\n      </tr>\\n      <tr>\\n        <td valign=\"top\" align=\"center\"><p class=\"style2\"><a href=\"../eadmitcard/index.php\" style=\"text-decoration:none;\">\\xe0\\xa4\\xb8\\xe0\\xa4\\x82\\xe0\\xa4\\x98 \\xe0\\xa4\\xb2\\xe0\\xa5\\x8b\\xe0\\xa4\\x95 \\xe0\\xa4\\xb8\\xe0\\xa5\\x87\\xe0\\xa4\\xb5\\xe0\\xa4\\xbe \\xe0\\xa4\\x86\\xe0\\xa4\\xaf\\xe0\\xa5\\x8b\\xe0\\xa4\\x97 \\xe0\\xa4\\x95\\xe0\\xa5\\x80 \\xe0\\xa4\\xb5\\xe0\\xa4\\xbf\\xe0\\xa4\\xad\\xe0\\xa4\\xbf\\xe0\\xa4\\xa8\\xe0\\xa5\\x8d\\xe0\\xa4\\xa8 \\xe0\\xa4\\xaa\\xe0\\xa4\\xb0\\xe0\\xa5\\x80\\xe0\\xa4\\x95\\xe0\\xa5\\x8d\\xe0\\xa4\\xb7\\xe0\\xa4\\xbe\\xe0\\xa4\\x93\\xe0\\xa4\\x82 \\xe0\\xa4\\x95\\xe0\\xa5\\x87 \\xe0\\xa4\\xb2\\xe0\\xa4\\xbf\\xe0\\xa4\\x8f \\xe0\\xa4\\x88-\\xe0\\xa4\\xaa\\xe0\\xa5\\x8d\\xe0\\xa4\\xb0\\xe0\\xa4\\xb5\\xe0\\xa5\\x87\\xe0\\xa4\\xb6 \\xe0\\xa4\\xaa\\xe0\\xa4\\xa4\\xe0\\xa5\\x8d\\xe0\\xa4\\xb0</a></p></td>\\n      </tr> \\n\\t    <tr>\\n        <td>&nbsp;</td>\\n      </tr>  \\n\\t   <tr>\\n        <td valign=\"top\" align=\"center\"><p class=\"style2\"><a href=\"../daf/index.php\" style=\"text-decoration:none;\">\\n        DAF for VARIOUS EXAMINATIONS OF UPSC</a></p></td>\\n      </tr>\\n      <tr>\\n        <td valign=\"top\" align=\"center\"><p class=\"style2\"><a href=\"../daf/index.php\" style=\"text-decoration:none;\">\\xe0\\xa4\\xb8\\xe0\\xa4\\x82\\xe0\\xa4\\x98 \\xe0\\xa4\\xb2\\xe0\\xa5\\x8b\\xe0\\xa4\\x95 \\xe0\\xa4\\xb8\\xe0\\xa5\\x87\\xe0\\xa4\\xb5\\xe0\\xa4\\xbe \\xe0\\xa4\\x86\\xe0\\xa4\\xaf\\xe0\\xa5\\x8b\\xe0\\xa4\\x97 \\xe0\\xa4\\x95\\xe0\\xa5\\x80 \\xe0\\xa4\\xb5\\xe0\\xa4\\xbf\\xe0\\xa4\\xad\\xe0\\xa4\\xbf\\xe0\\xa4\\xa8\\xe0\\xa5\\x8d\\xe0\\xa4\\xa8 \\xe0\\xa4\\xaa\\xe0\\xa4\\xb0\\xe0\\xa5\\x80\\xe0\\xa4\\x95\\xe0\\xa5\\x8d\\xe0\\xa4\\xb7\\xe0\\xa4\\xbe\\xe0\\xa4\\x93\\xe0\\xa4\\x82 \\xe0\\xa4\\x95\\xe0\\xa5\\x87 \\xe0\\xa4\\xb2\\xe0\\xa4\\xbf\\xe0\\xa4\\x8f \\xe0\\xa4\\xa1\\xe0\\xa5\\x80 \\xe0\\xa4\\x8f \\xe0\\xa4\\x8f\\xe0\\xa5\\x9e</a></p></td>\\n      </tr> \\n\\t    <tr>\\n        <td>&nbsp;</td>\\n      </tr>  \\n\\t    <tr>\\n        <td valign=\"top\" align=\"center\"><p class=\"style2\"><a href=\"../esummon/\" style=\"text-decoration:none;\">\\n        e-SUMMON for VARIOUS EXAMINATIONS OF UPSC</a></p></td>\\n      </tr>\\n      <tr>\\n        <td valign=\"top\" align=\"center\"><p class=\"style2\"><a href=\"../esummon/\" style=\"text-decoration:none;\">\\xe0\\xa4\\xb8\\xe0\\xa4\\x82\\xe0\\xa4\\x98 \\xe0\\xa4\\xb2\\xe0\\xa5\\x8b\\xe0\\xa4\\x95 \\xe0\\xa4\\xb8\\xe0\\xa5\\x87\\xe0\\xa4\\xb5\\xe0\\xa4\\xbe \\xe0\\xa4\\x86\\xe0\\xa4\\xaf\\xe0\\xa5\\x8b\\xe0\\xa4\\x97 \\xe0\\xa4\\x95\\xe0\\xa5\\x80 \\xe0\\xa4\\xb5\\xe0\\xa4\\xbf\\xe0\\xa4\\xad\\xe0\\xa4\\xbf\\xe0\\xa4\\xa8\\xe0\\xa5\\x8d\\xe0\\xa4\\xa8 \\xe0\\xa4\\xaa\\xe0\\xa4\\xb0\\xe0\\xa5\\x80\\xe0\\xa4\\x95\\xe0\\xa5\\x8d\\xe0\\xa4\\xb7\\xe0\\xa4\\xbe\\xe0\\xa4\\x93\\xe0\\xa4\\x82 \\xe0\\xa4\\x95\\xe0\\xa5\\x87 \\xe0\\xa4\\xb2\\xe0\\xa4\\xbf\\xe0\\xa4\\x8f  \\xe0\\xa4\\x88-\\xe0\\xa4\\xb8\\xe0\\xa4\\xae\\xe0\\xa5\\x8d\\xe0\\xa4\\xae\\xe0\\xa4\\xa8</a></p></td>\\n      </tr> \\n      <tr>\\n        <td>&nbsp;</td>\\n      </tr>\\n      <tr>\\n        <td valign=\"top\" align=\"center\"><p class=\"style2\"><a target=\"_blank\" href=\"./Engl-Time-Frame-Representation-21062018-R.pdf\" style=\"text-decoration:none;\">\\n        Representation on Question Papers</a></p></td>\\n      </tr>\\n      <tr>\\n        <td valign=\"top\" align=\"center\"><p class=\"style2\"><a target=\"_blank\" href=\"./Hindi-Time-Frame-Representation-21062018.pdf\" style=\"text-decoration:none;\">\\xe0\\xa4\\xaa\\xe0\\xa5\\x8d\\xe0\\xa4\\xb0\\xe0\\xa4\\xb6\\xe0\\xa5\\x8d\\xe0\\xa4\\xa8\\xe0\\xa4\\xaa\\xe0\\xa4\\xa4\\xe0\\xa5\\x8d\\xe0\\xa4\\xb0 \\xe0\\xa4\\xaa\\xe0\\xa4\\xb0 \\xe0\\xa4\\x85\\xe0\\xa4\\xad\\xe0\\xa5\\x8d\\xe0\\xa4\\xaf\\xe0\\xa4\\xbe\\xe0\\xa4\\xb5\\xe0\\xa5\\x87\\xe0\\xa4\\xa6\\xe0\\xa4\\xa8</a></p></td>\\n      </tr> \\n\\t    <tr>\\n        <td>&nbsp;</td>\\n      </tr>  \\n\\t  \\n \\t  <tr>\\n        <td>&nbsp;</td>\\n      </tr> \\n    </table></td>\\n  </tr>\\n</table>\\n<br><br>\\n    <div align=\"center\">\\n\\t<p align=\"center\"><span style=\"font-size:14px; color:#ff0000;\"><b>This site can be best viewed in Google Chrome, Internet Explorer 9 and above.</b></span><br/><span style=\"font-size:14px; color:#ff0000;\"><b> \\xe0\\xa4\\x87\\xe0\\xa4\\xb8 \\xe0\\xa4\\xb8\\xe0\\xa4\\xbe\\xe0\\xa4\\x87\\xe0\\xa4\\x9f \\xe0\\xa4\\x95\\xe0\\xa5\\x8b \\xe0\\xa4\\x97\\xe0\\xa5\\x82\\xe0\\xa4\\x97\\xe0\\xa4\\xb2 \\xe0\\xa4\\x95\\xe0\\xa5\\x8d\\xe0\\xa4\\xb0\\xe0\\xa5\\x8b\\xe0\\xa4\\xae, \\xe0\\xa4\\x87\\xe0\\xa4\\x82\\xe0\\xa4\\x9f\\xe0\\xa4\\xb0\\xe0\\xa4\\xa8\\xe0\\xa5\\x87\\xe0\\xa4\\x9f \\xe0\\xa4\\x8f\\xe0\\xa4\\x95\\xe0\\xa5\\x8d\\xe0\\xa4\\xb8\\xe0\\xa4\\xaa\\xe0\\xa5\\x8d\\xe0\\xa4\\xb2\\xe0\\xa5\\x8b\\xe0\\xa4\\xb0\\xe0\\xa4\\xb0 9 \\xe0\\xa4\\x94\\xe0\\xa4\\xb0 \\n\\xe0\\xa4\\x87\\xe0\\xa4\\xb8\\xe0\\xa4\\xb8\\xe0\\xa5\\x87 \\xe0\\xa4\\x8a\\xe0\\xa4\\xaa\\xe0\\xa4\\xb0 \\xe0\\xa4\\xae\\xe0\\xa5\\x87\\xe0\\xa4\\x82 \\xe0\\xa4\\x85\\xe0\\xa4\\x9a\\xe0\\xa5\\x8d\\xe0\\xa4\\x9b\\xe0\\xa5\\x80 \\xe0\\xa4\\xa4\\xe0\\xa4\\xb0\\xe0\\xa4\\xb9 \\xe0\\xa4\\xb8\\xe0\\xa5\\x87 \\xe0\\xa4\\xa6\\xe0\\xa5\\x87\\xe0\\xa4\\x96\\xe0\\xa4\\xbe \\xe0\\xa4\\x9c\\xe0\\xa4\\xbe \\xe0\\xa4\\xb8\\xe0\\xa4\\x95\\xe0\\xa4\\xa4\\xe0\\xa4\\xbe \\xe0\\xa4\\xb9\\xe0\\xa5\\x88\\xe0\\xa5\\xa4</b></span> </p>   \\n<br><br>\\n<p align=center><img src=images/footer.gif style=margin-bottom:0.5cm></p>\\n</div>\\n</body>\\n</html>'"
            ]
          },
          "metadata": {},
          "execution_count": 17
        }
      ]
    },
    {
      "cell_type": "code",
      "source": [
        "r=requests.get('https://api.github.com/events')\n",
        "r=requests.post('https://httpbin.org/post',\n",
        "data={'key': 'value'})\n",
        "r=requests.put('https://httpbin.org/put',\n",
        "               data={'key':'value'})\n",
        "r.content\n",
        "r.encoding"
      ],
      "metadata": {
        "colab": {
          "base_uri": "https://localhost:8080/",
          "height": 35
        },
        "id": "kdepQbRs3O1p",
        "outputId": "6ff1fe9e-3a90-4a97-9ffc-fcc5bb32cd29"
      },
      "execution_count": 23,
      "outputs": [
        {
          "output_type": "execute_result",
          "data": {
            "text/plain": [
              "'utf-8'"
            ],
            "application/vnd.google.colaboratory.intrinsic+json": {
              "type": "string"
            }
          },
          "metadata": {},
          "execution_count": 23
        }
      ]
    },
    {
      "cell_type": "markdown",
      "source": [],
      "metadata": {
        "id": "IRcYIAF_zy1N"
      }
    }
  ]
}